{
 "cells": [
  {
   "cell_type": "markdown",
   "id": "4d521a45-0a89-4602-ae1b-756a84cc0db1",
   "metadata": {},
   "source": [
    "# Esse é o titulo\n",
    "Essa linha cria uma variavel `a`"
   ]
  },
  {
   "cell_type": "code",
   "execution_count": 1,
   "id": "e97bc34d-5a4f-42ca-8304-5835dfb2d296",
   "metadata": {},
   "outputs": [],
   "source": [
    "a = 2"
   ]
  },
  {
   "cell_type": "code",
   "execution_count": 2,
   "id": "c27903e4-3818-4c16-8291-a07c8550d6c3",
   "metadata": {},
   "outputs": [
    {
     "data": {
      "text/plain": [
       "2"
      ]
     },
     "execution_count": 2,
     "metadata": {},
     "output_type": "execute_result"
    }
   ],
   "source": [
    "a"
   ]
  },
  {
   "cell_type": "markdown",
   "id": "aec50bce-3321-4815-bdeb-e51de679f59f",
   "metadata": {},
   "source": [
    "Essa linha tem o valor da variavel `a` em dobro"
   ]
  },
  {
   "cell_type": "code",
   "execution_count": 3,
   "id": "c4d48ddf-fc26-48b2-a7c5-4e1b232b52ef",
   "metadata": {},
   "outputs": [],
   "source": [
    "b = a * 2"
   ]
  },
  {
   "cell_type": "code",
   "execution_count": 4,
   "id": "e520eded-9449-49c7-a9d9-0d6569ac1964",
   "metadata": {},
   "outputs": [
    {
     "data": {
      "text/plain": [
       "4"
      ]
     },
     "execution_count": 4,
     "metadata": {},
     "output_type": "execute_result"
    }
   ],
   "source": [
    "b"
   ]
  },
  {
   "cell_type": "markdown",
   "id": "b7c829e7-ed12-40df-86fc-21e59a39dc48",
   "metadata": {},
   "source": [
    "Essa linha mostra o valor de `a` + `b`"
   ]
  },
  {
   "cell_type": "code",
   "execution_count": 6,
   "id": "a891a562-955f-4f6e-8643-52eb5014ea4e",
   "metadata": {},
   "outputs": [
    {
     "name": "stdout",
     "output_type": "stream",
     "text": [
      "6\n"
     ]
    }
   ],
   "source": [
    "print(a + b)"
   ]
  },
  {
   "cell_type": "code",
   "execution_count": null,
   "id": "0b4d72fe-5b81-4631-bff2-d3a30b29bf46",
   "metadata": {},
   "outputs": [],
   "source": []
  }
 ],
 "metadata": {
  "kernelspec": {
   "display_name": "Python 3 (ipykernel)",
   "language": "python",
   "name": "python3"
  },
  "language_info": {
   "codemirror_mode": {
    "name": "ipython",
    "version": 3
   },
   "file_extension": ".py",
   "mimetype": "text/x-python",
   "name": "python",
   "nbconvert_exporter": "python",
   "pygments_lexer": "ipython3",
   "version": "3.12.3"
  }
 },
 "nbformat": 4,
 "nbformat_minor": 5
}
